{
 "cells": [
  {
   "cell_type": "code",
   "execution_count": 8,
   "metadata": {},
   "outputs": [],
   "source": [
    "import pandas as pd\n",
    "import numpy as np\n",
    "import sys\n",
    "import os\n",
    "# Define the path to the src directory\n",
    "src_dir = os.path.abspath(os.path.join(os.getcwd(), '..', 'src'))\n",
    "sys.path.insert(0, src_dir)\n",
    "\n",
    "# Delete the eda and data_loader modules if they exist\n",
    "if 'eda' in sys.modules:\n",
    "    del sys.modules['eda']\n",
    "if 'data_loader' in sys.modules:\n",
    "    del sys.modules['data_loader']\n",
    "\n",
    "from eda import EDA\n",
    "from data_loader import DataLoader\n"
   ]
  },
  {
   "cell_type": "code",
   "execution_count": 16,
   "metadata": {},
   "outputs": [],
   "source": [
    "# Load and clean data\n",
    "\n",
    "# List of CSV file paths\n",
    "file_path = \"../data/yfinance_data/AMZN_historical_data.csv\",\n",
    "file_paths = [\n",
    "    \"../data/yfinance_data/AAPL_historical_data.csv\",\n",
    "    \"../data/yfinance_data/AMZN_historical_data.csv\",\n",
    "    \"../data/yfinance_data/GOOG_historical_data.csv\",\n",
    "    \"../data/yfinance_data/META_historical_data.csv\",\n",
    "    \"../data/yfinance_data/MSFT_historical_data.csv\",\n",
    "    \"../data/yfinance_data/NVDA_historical_data.csv\",\n",
    "    \"../data/yfinance_data/TSLA_historical_data.csv\",\n",
    "]\n",
    "\n",
    "# Initialize DataLoader with multiple files\n",
    "data_loader = DataLoader(file_paths)\n",
    "data_loader2 = DataLoader(file_path)\n",
    "df = data_loader.load_data()\n",
    "df2 = data_loader2.load_data()\n",
    "df = data_loader.clean_data(df)\n",
    "df2 = data_loader2.clean_data(df2)\n",
    "\n"
   ]
  },
  {
   "cell_type": "code",
   "execution_count": 17,
   "metadata": {},
   "outputs": [
    {
     "name": "stdout",
     "output_type": "stream",
     "text": [
      "(45428, 9)\n",
      "(6846, 9)\n"
     ]
    }
   ],
   "source": [
    "print(df.shape)\n",
    "print(df2.shape)"
   ]
  },
  {
   "cell_type": "code",
   "execution_count": null,
   "metadata": {},
   "outputs": [],
   "source": []
  }
 ],
 "metadata": {
  "kernelspec": {
   "display_name": "venv",
   "language": "python",
   "name": "python3"
  },
  "language_info": {
   "codemirror_mode": {
    "name": "ipython",
    "version": 3
   },
   "file_extension": ".py",
   "mimetype": "text/x-python",
   "name": "python",
   "nbconvert_exporter": "python",
   "pygments_lexer": "ipython3",
   "version": "3.9.2"
  }
 },
 "nbformat": 4,
 "nbformat_minor": 2
}
