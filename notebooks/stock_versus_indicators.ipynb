{
 "cells": [
  {
   "cell_type": "markdown",
   "metadata": {},
   "source": [
    "# Stock Versus Financial Indicators"
   ]
  },
  {
   "cell_type": "markdown",
   "metadata": {},
   "source": [
    "### Import libraries and files"
   ]
  },
  {
   "cell_type": "code",
   "execution_count": null,
   "metadata": {},
   "outputs": [],
   "source": [
    "import os\n",
    "import sys\n",
    "import pandas as pd\n",
    "import numpy as np\n",
    "import matplotlib.pyplot as plt\n",
    "import seaborn as sns\n",
    "from IPython.display import display, HTML\n",
    "import yfinance as yf"
   ]
  },
  {
   "cell_type": "code",
   "execution_count": null,
   "metadata": {},
   "outputs": [],
   "source": [
    "# Define the path to the src directory\n",
    "src_dir = os.path.abspath(os.path.join(os.getcwd(), '..', 'src'))\n",
    "sys.path.insert(0, src_dir)\n",
    "\n",
    "if 'data_loader' in sys.modules:\n",
    "    del sys.modules['data_loader']\n",
    "if 'data_cleaner' in sys.modules:\n",
    "    del sys.modules['data_cleaner']\n",
    "if 'indicators' in sys.modules:\n",
    "    del sys.modules['indicators']\n",
    "if 'financial_metrics' in sys.modules:\n",
    "    del sys.modules['financial_metrics']\n",
    "\n",
    "from data_loader import DataLoader\n",
    "from data_cleaner import DataCleaner\n",
    "from indicators import TechnicalIndicators\n",
    "from financial_metrics import FinancialMetrics"
   ]
  },
  {
   "cell_type": "code",
   "execution_count": null,
   "metadata": {},
   "outputs": [],
   "source": [
    "# File paths \n",
    "file_paths = [\n",
    "    \"../data/yfinance_data/AAPL_historical_data.csv\",\n",
    "    \"../data/yfinance_data/AMZN_historical_data.csv\",\n",
    "    \"../data/yfinance_data/GOOG_historical_data.csv\",\n",
    "    \"../data/yfinance_data/META_historical_data.csv\",\n",
    "    \"../data/yfinance_data/MSFT_historical_data.csv\",\n",
    "    \"../data/yfinance_data/NVDA_historical_data.csv\",\n",
    "    \"../data/yfinance_data/TSLA_historical_data.csv\",\n",
    "]\n",
    "\n",
    "market_index_path = \"../data/yfinance_data/SPY_historical_data.csv\"\n"
   ]
  },
  {
   "cell_type": "markdown",
   "metadata": {},
   "source": [
    "### Download SPY data , Load and Process historical data"
   ]
  },
  {
   "cell_type": "code",
   "execution_count": null,
   "metadata": {},
   "outputs": [],
   "source": [
    "def download_spy_data(start=\"2010-01-01\", end=\"2023-12-31\"):\n",
    "    \"\"\"Download S&P 500 (SPY) data if it doesn't exist.\"\"\"\n",
    "    if not os.path.exists(market_index_path):\n",
    "        print(\"Downloading S&P 500 (SPY) data...\")\n",
    "        spy_data = yf.download(\"SPY\", start=start, end=end)\n",
    "        os.makedirs(os.path.dirname(market_index_path), exist_ok=True)\n",
    "        spy_data.to_csv(market_index_path)\n",
    "        print(\"S&P 500 (SPY) data downloaded and saved.\")\n",
    "    else:\n",
    "        print(\"S&P 500 (SPY) data already exists.\")\n",
    "\n",
    "def load_and_process_data():\n",
    "    \"\"\"Load and process the stock data and market index.\"\"\"\n",
    "    # Download SPY data if it doesn't exist\n",
    "    download_spy_data()\n",
    "    \n",
    "    # load data\n",
    "    loader = DataLoader(file_paths)\n",
    "    data = loader.load_data()\n",
    "\n",
    "    # clean data\n",
    "    cleaner = DataCleaner()\n",
    "    cleaned_data = {ticker: cleaner.clean_data(df) for ticker, df in data.items()}\n",
    "    data = cleaned_data\n",
    "    \n",
    "    market_data = pd.read_csv(market_index_path, index_col='Date', parse_dates=True)\n",
    "    market_returns = market_data['Close'].pct_change().dropna()\n",
    "    \n",
    "    indicators = TechnicalIndicators(data)\n",
    "    indicators.calculate_moving_average()\n",
    "    indicators.calculate_rsi()\n",
    "    indicators.calculate_macd()\n",
    "    \n",
    "    metrics = FinancialMetrics(data)\n",
    "    for ticker in data.keys():\n",
    "        data[ticker]['Returns'] = data[ticker]['Close'].pct_change()\n",
    "        data[ticker]['Cumulative Returns'] = (1 + data[ticker]['Returns']).cumprod()\n",
    "    \n",
    "    return data, market_returns"
   ]
  },
  {
   "cell_type": "markdown",
   "metadata": {},
   "source": [
    "### Plot Stock Price and Volume for Each Ticker"
   ]
  },
  {
   "cell_type": "code",
   "execution_count": null,
   "metadata": {},
   "outputs": [],
   "source": [
    "def plot_stock_price(data, ticker):\n",
    "    \"\"\"Plot the stock price and volume for a given ticker.\"\"\"\n",
    "    stock_data = data[ticker]\n",
    "    fig, (ax1, ax2) = plt.subplots(2, 1, figsize=(12, 8), sharex=True)\n",
    "    \n",
    "    ax1.plot(stock_data.index, stock_data['Close'], label='Close Price')\n",
    "    ax1.set_title(f'{ticker} Stock Price and Volume')\n",
    "    ax1.set_ylabel('Price')\n",
    "    ax1.legend()\n",
    "    \n",
    "    ax2.bar(stock_data.index, stock_data['Volume'], label='Volume')\n",
    "    ax2.set_ylabel('Volume')\n",
    "    ax2.set_xlabel('Date')\n",
    "    ax2.legend()\n",
    "    \n",
    "    plt.tight_layout()\n",
    "    plt.show()\n",
    "\n"
   ]
  },
  {
   "cell_type": "markdown",
   "metadata": {},
   "source": [
    "### Technical Indicators and Returns Comparison"
   ]
  },
  {
   "cell_type": "code",
   "execution_count": null,
   "metadata": {},
   "outputs": [],
   "source": [
    "def plot_technical_indicators(data, ticker):\n",
    "    \"\"\"Plot technical indicators for a given ticker.\"\"\"\n",
    "    stock_data = data[ticker]\n",
    "    fig, (ax1, ax2, ax3) = plt.subplots(3, 1, figsize=(12, 12), sharex=True)\n",
    "    \n",
    "    ax1.plot(stock_data.index, stock_data['Close'], label='Close Price')\n",
    "    # ax1.plot(stock_data.index, stock_data['MA_50'], label='50-day MA')\n",
    "    ax1.set_title(f'{ticker} Technical Indicators')\n",
    "    ax1.set_ylabel('Price')\n",
    "    ax1.legend()\n",
    "    \n",
    "    ax2.plot(stock_data.index, stock_data['RSI'], label='RSI')\n",
    "    ax2.axhline(y=70, color='r', linestyle='--', label='Overbought (70)')\n",
    "    ax2.axhline(y=30, color='g', linestyle='--', label='Oversold (30)')\n",
    "    ax2.set_ylabel('RSI')\n",
    "    ax2.legend()\n",
    "    \n",
    "    ax3.plot(stock_data.index, stock_data['MACD'], label='MACD')\n",
    "    # ax3.plot(stock_data.index, stock_data['Signal'], label='Signal Line')\n",
    "    # ax3.bar(stock_data.index, stock_data['MACD_Histogram'], label='MACD Histogram')\n",
    "    ax3.set_ylabel('MACD')\n",
    "    ax3.set_xlabel('Date')\n",
    "    ax3.legend()\n",
    "    \n",
    "    plt.tight_layout()\n",
    "    plt.show()\n",
    "\n",
    "def plot_returns_comparison(data):\n",
    "    \"\"\"Plot cumulative returns comparison for all stocks.\"\"\"\n",
    "    plt.figure(figsize=(12, 6))\n",
    "    for ticker, stock_data in data.items():\n",
    "        plt.plot(stock_data.index, stock_data['Cumulative Returns'], label=ticker)\n",
    "    \n",
    "    plt.title('Cumulative Returns Comparison')\n",
    "    plt.xlabel('Date')\n",
    "    plt.ylabel('Cumulative Returns')\n",
    "    plt.legend()\n",
    "    plt.show()"
   ]
  },
  {
   "cell_type": "markdown",
   "metadata": {},
   "source": [
    "### Correlation Heatmap and Metrics Table"
   ]
  },
  {
   "cell_type": "code",
   "execution_count": null,
   "metadata": {},
   "outputs": [],
   "source": [
    "def plot_correlation_heatmap(data):\n",
    "    \"\"\"Plot correlation heatmap of stock returns.\"\"\"\n",
    "    returns = pd.DataFrame({ticker: stock_data['Returns'] for ticker, stock_data in data.items()})\n",
    "    corr_matrix = returns.corr()\n",
    "\n",
    "    plt.figure(figsize=(10, 8))\n",
    "    sns.heatmap(corr_matrix, annot=True, cmap='coolwarm', vmin=-1, vmax=1, center=0)\n",
    "    plt.title('Correlation Heatmap of Stock Returns')\n",
    "    plt.show()\n",
    "\n",
    "\n",
    "\n",
    "\n",
    "def display_metrics_table(data, market_returns):\n",
    "    \"\"\"Display a table of financial metrics for all stocks.\"\"\"\n",
    "    metrics = FinancialMetrics(data)\n",
    "    sharpe_ratios = metrics.calculate_sharpe_ratio()\n",
    "    volatilities = metrics.calculate_volatility()\n",
    "    betas = metrics.calculate_beta(market_returns)\n",
    "    \n",
    "    metrics_df = pd.DataFrame({\n",
    "        'Sharpe Ratio': sharpe_ratios,\n",
    "        'Volatility': volatilities,\n",
    "        'Beta': betas\n",
    "    })\n",
    "    \n",
    "    display(HTML(metrics_df.to_html()))"
   ]
  },
  {
   "cell_type": "markdown",
   "metadata": {},
   "source": [
    "### Execute Data Processing and Visualizations"
   ]
  },
  {
   "cell_type": "code",
   "execution_count": null,
   "metadata": {},
   "outputs": [],
   "source": [
    "# Main execution\n",
    "data, market_returns = load_and_process_data()\n",
    "# Display metrics table\n",
    "print(\"Financial Metrics:\")\n",
    "display_metrics_table(data, market_returns)\n"
   ]
  },
  {
   "cell_type": "code",
   "execution_count": null,
   "metadata": {},
   "outputs": [],
   "source": [
    "# Plot visualizations for each stock\n",
    "for ticker in data.keys():\n",
    "    print(f\"\\nVisualizations for {ticker}:\")\n",
    "    plot_stock_price(data, ticker)\n",
    "    plot_technical_indicators(data, ticker)\n",
    "\n",
    "# Plot comparisons across all stocks\n",
    "print(\"\\nStock Comparisons:\")\n",
    "plot_returns_comparison(data)\n",
    "plot_correlation_heatmap(data) \n",
    "\n",
    "\n"
   ]
  }
 ],
 "metadata": {
  "kernelspec": {
   "display_name": "venv",
   "language": "python",
   "name": "python3"
  },
  "language_info": {
   "codemirror_mode": {
    "name": "ipython",
    "version": 3
   },
   "file_extension": ".py",
   "mimetype": "text/x-python",
   "name": "python",
   "nbconvert_exporter": "python",
   "pygments_lexer": "ipython3",
   "version": "3.9.2"
  }
 },
 "nbformat": 4,
 "nbformat_minor": 2
}
