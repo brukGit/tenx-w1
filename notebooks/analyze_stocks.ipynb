{
 "cells": [
  {
   "cell_type": "markdown",
   "metadata": {},
   "source": [
    "# Stock Versus Financial Indicators"
   ]
  },
  {
   "cell_type": "markdown",
   "metadata": {},
   "source": [
    "### Import libraries and files"
   ]
  },
  {
   "cell_type": "code",
   "execution_count": null,
   "metadata": {},
   "outputs": [],
   "source": [
    "import os\n",
    "import sys\n",
    "import pandas as pd\n",
    "import numpy as np\n",
    "import matplotlib.pyplot as plt\n",
    "import seaborn as sns\n",
    "from IPython.display import display, HTML\n",
    "import yfinance as yf"
   ]
  },
  {
   "cell_type": "code",
   "execution_count": null,
   "metadata": {},
   "outputs": [],
   "source": [
    "# Define the path to the src directory\n",
    "src_dir = os.path.abspath(os.path.join(os.getcwd(), '..', 'src'))\n",
    "sys.path.insert(0, src_dir)\n",
    "\n",
    "if 'data_loader' in sys.modules:\n",
    "    del sys.modules['data_loader']\n",
    "if 'data_cleaner' in sys.modules:\n",
    "    del sys.modules['data_cleaner']\n",
    "if 'indicators' in sys.modules:\n",
    "    del sys.modules['indicators']\n",
    "if 'financial_metrics' in sys.modules:\n",
    "    del sys.modules['financial_metrics']\n",
    "\n",
    "from data_loader import DataLoader\n",
    "from data_cleaner import DataCleaner\n",
    "from indicators import TechnicalIndicators\n",
    "from financial_metrics import FinancialMetrics"
   ]
  },
  {
   "cell_type": "code",
   "execution_count": null,
   "metadata": {},
   "outputs": [],
   "source": [
    "# File paths \n",
    "file_paths = [\n",
    "    \"../data/yfinance_data/AAPL_historical_data.csv\",\n",
    "    \"../data/yfinance_data/AMZN_historical_data.csv\",\n",
    "    \"../data/yfinance_data/GOOG_historical_data.csv\",\n",
    "    \"../data/yfinance_data/META_historical_data.csv\",\n",
    "    \"../data/yfinance_data/MSFT_historical_data.csv\",\n",
    "    \"../data/yfinance_data/NVDA_historical_data.csv\",\n",
    "    \"../data/yfinance_data/TSLA_historical_data.csv\",\n",
    "]\n",
    "\n",
    "market_index_path = \"../data/yfinance_data/SPY_historical_data.csv\"\n"
   ]
  },
  {
   "cell_type": "code",
   "execution_count": null,
   "metadata": {},
   "outputs": [],
   "source": [
    "def extract_Years(file_paths):\n",
    "    \"\"\"Extract the earliest and latest dates from the CSV files.\"\"\"\n",
    "    earliest_date = None\n",
    "    latest_date = None\n",
    "    for file_path in file_paths:\n",
    "        df = pd.read_csv(file_path)\n",
    "        date_max = df['Date'].max()\n",
    "        date_min = df['Date'].min()\n",
    "        if earliest_date is None or date_min < earliest_date:\n",
    "            earliest_date = date_min\n",
    "        if latest_date is None or date_max > latest_date:\n",
    "            latest_date = date_max\n",
    "    return latest_date, earlist_date\n"
   ]
  },
  {
   "cell_type": "markdown",
   "metadata": {},
   "source": [
    "### Download SPY data , Load and Process historical data"
   ]
  },
  {
   "cell_type": "code",
   "execution_count": null,
   "metadata": {},
   "outputs": [],
   "source": [
    "latest_date, earlist_date = extract_dates(file_paths)\n",
    "def download_spy_data(start=earlist_date, end=latest_date):\n",
    "    \"\"\"Download S&P 500 (SPY) data if it doesn't exist.\"\"\"\n",
    "    if not os.path.exists(market_index_path):\n",
    "        print(\"Downloading S&P 500 (SPY) data...\")\n",
    "        spy_data = yf.download(\"SPY\", start=start, end=end)\n",
    "        os.makedirs(os.path.dirname(market_index_path), exist_ok=True)\n",
    "        spy_data.to_csv(market_index_path)\n",
    "        print(\"S&P 500 (SPY) data downloaded and saved.\")\n",
    "    else:\n",
    "        print(\"S&P 500 (SPY) data already exists.\")\n",
    "\n",
    "def load_and_process_data():\n",
    "    \"\"\"Load and process the stock data and market index.\"\"\"\n",
    "    # Download SPY data if it doesn't exist\n",
    "    download_spy_data()\n",
    "    \n",
    "    # load data\n",
    "    loader = DataLoader(file_paths)\n",
    "    data = loader.load_data()\n",
    "\n",
    "    # clean data\n",
    "    cleaner = DataCleaner()\n",
    "    cleaned_data = {ticker: cleaner.clean_data(df) for ticker, df in data.items()}\n",
    "    data = cleaned_data\n",
    "    \n",
    "    market_data = pd.read_csv(market_index_path, index_col='Date', parse_dates=True)\n",
    "    market_returns = market_data['Close'].pct_change().dropna()\n",
    "    \n",
    "    indicators = TechnicalIndicators(data)\n",
    "    indicators.calculate_moving_average()\n",
    "    indicators.calculate_rsi()\n",
    "    indicators.calculate_macd()\n",
    "    \n",
    "    metrics = FinancialMetrics(data)\n",
    "    for ticker in data.keys():\n",
    "        data[ticker]['Returns'] = data[ticker]['Close'].pct_change()\n",
    "        data[ticker]['Cumulative Returns'] = (1 + data[ticker]['Returns']).cumprod()\n",
    "    \n",
    "    return data, market_returns"
   ]
  },
  {
   "cell_type": "markdown",
   "metadata": {},
   "source": [
    "### Plots for summary statistics of the Indicators (RSI, MA, MACD, MACD_signal)"
   ]
  },
  {
   "cell_type": "code",
   "execution_count": null,
   "metadata": {},
   "outputs": [],
   "source": [
    "def create_comparative_plots(data):\n",
    "    # Prepare data\n",
    "    stats = {}\n",
    "    for ticker, df in data.items():\n",
    "        stats[ticker] = df[['RSI', 'MA', 'MACD', 'MACD_signal']].describe().loc[['mean', 'std']]\n",
    "    \n",
    "    combined_stats = pd.concat(stats, axis=1)\n",
    "\n",
    "    # Set up the plot style\n",
    "    plt.style.use('seaborn-v0_8-darkgrid')\n",
    "    \n",
    "    # 1. Bar Plot with Error Bars\n",
    "    fig, axes = plt.subplots(2, 2, figsize=(20, 16))\n",
    "    fig.suptitle('Comparative Technical Indicators Across Stocks', fontsize=16)\n",
    "\n",
    "    indicators = ['RSI', 'MA', 'MACD', 'MACD_signal']\n",
    "    for i, indicator in enumerate(indicators):\n",
    "        ax = axes[i // 2, i % 2]\n",
    "        means = combined_stats.loc['mean', (slice(None), indicator)]\n",
    "        stds = combined_stats.loc['std', (slice(None), indicator)]\n",
    "        x = range(len(means))\n",
    "        ax.bar(x, means.values, yerr=stds.values, capsize=5)\n",
    "        ax.set_title(f'{indicator} - Mean with Standard Deviation')\n",
    "        ax.set_ylabel('Value')\n",
    "        ax.set_xticks(x)\n",
    "        ax.set_xticklabels(means.index.get_level_values(0), rotation=45, ha='right')\n",
    "\n",
    "    plt.tight_layout()\n",
    "    plt.show()\n",
    "\n",
    "    # 2. Box Plot\n",
    "    fig, ax1 = plt.subplots(figsize=(15, 8))\n",
    "    fig.suptitle('Distribution of Technical Indicators Across Stocks', fontsize=16)\n",
    "\n",
    "    # Prepare data\n",
    "    data_melted = pd.melt(pd.concat([df[indicators].assign(Ticker=ticker) for ticker, df in data.items()]), \n",
    "                          id_vars=['Ticker'], var_name='Indicator', value_name='Value')\n",
    "    \n",
    "    # Create a secondary y-axis\n",
    "    ax2 = ax1.twinx()\n",
    "\n",
    "    # Plot RSI and MA on primary y-axis\n",
    "    sns.boxplot(x='Indicator', y='Value', hue='Ticker', \n",
    "                data=data_melted[data_melted['Indicator'].isin(['RSI', 'MA'])], \n",
    "                ax=ax1)\n",
    "    \n",
    "    # Plot MACD and MACD_signal on secondary y-axis\n",
    "    sns.boxplot(x='Indicator', y='Value', hue='Ticker', \n",
    "                data=data_melted[data_melted['Indicator'].isin(['MACD', 'MACD_signal'])], \n",
    "                ax=ax2)\n",
    "\n",
    "    # Customize the plot\n",
    "    ax1.set_ylabel('RSI and MA Values')\n",
    "    ax2.set_ylabel('MACD and MACD_signal Values')\n",
    "    ax1.legend(title='Ticker', bbox_to_anchor=(1.05, 1), loc='upper left')\n",
    "    ax2.legend_.remove()  # Remove the second legend\n",
    "\n",
    "    # Adjust x-axis labels\n",
    "    plt.xticks(range(4), ['RSI', 'MA', 'MACD', 'MACD_signal'])\n",
    "    \n",
    "    plt.tight_layout()\n",
    "    plt.show()\n",
    "\n",
    "    \n",
    "\n"
   ]
  },
  {
   "cell_type": "markdown",
   "metadata": {},
   "source": [
    "### Indicators vs Returns "
   ]
  },
  {
   "cell_type": "code",
   "execution_count": null,
   "metadata": {},
   "outputs": [],
   "source": [
    "\n",
    "def return_latest_year_data(data):\n",
    "    # Get the most recent date in the data\n",
    "    latest_date = data['Date'].max()\n",
    "    \n",
    "    # Calculate the date one year before the most recent date\n",
    "    one_year_ago = latest_date - pd.DateOffset(years=2)\n",
    "    \n",
    "    # Filter the data to include only the last year\n",
    "    last_year_data = data[data['Date'] >= one_year_ago]\n",
    "    return last_year_data\n",
    "\n",
    "def plot_indicators_and_returns(data, ticker):\n",
    "    \"\"\"Plot stock price and technical indicators for a given ticker.\"\"\"\n",
    "    stock_data = data[ticker]\n",
    "    \n",
    "   # Check if 'Date' column is in datetime format\n",
    "    if not pd.api.types.is_datetime64_any_dtype(stock_data['Date']):\n",
    "        stock_data['Date'] = pd.to_datetime(stock_data['Date'])\n",
    "\n",
    "    # For closer inspection, plot only the latest year's data\n",
    "    stock_data = return_latest_year_data(stock_data) \n",
    "    \n",
    "    fig, (ax1, ax2, ax3) = plt.subplots(3, 1, figsize=(12, 16), sharex=True)\n",
    "    \n",
    "    # Plot Close price and MA\n",
    "    ax1.plot(stock_data['Date'], stock_data['Close'], label='Close Price', color='blue')\n",
    "    ax1.plot(stock_data['Date'], stock_data['MA'], label='Moving Average', color='red')\n",
    "    ax1.set_title(f'{ticker} Stock Price and Indicators')\n",
    "    ax1.set_ylabel('Price (USD)')\n",
    "    ax1.legend(loc='upper left')\n",
    "    \n",
    "    # Plot RSI\n",
    "    ax2.plot(stock_data['Date'], stock_data['RSI'], label='RSI', color='purple')\n",
    "    ax2.axhline(y=70, color='r', linestyle='--', label='Overbought (70)')\n",
    "    ax2.axhline(y=30, color='g', linestyle='--', label='Oversold (30)')\n",
    "    ax2.set_ylabel('RSI')\n",
    "    ax2.legend(loc='upper left')\n",
    "    \n",
    "    # Plot MACD\n",
    "    ax3.plot(stock_data['Date'], stock_data['MACD'], label='MACD', color='blue')\n",
    "    ax3.plot(stock_data['Date'], stock_data['MACD_signal'], label='Signal Line', color='orange')\n",
    "    ax3.bar(stock_data['Date'], stock_data['MACD_Histogram'], label='MACD Histogram', color='gray', alpha=0.3)\n",
    "    ax3.set_ylabel('MACD')\n",
    "    ax3.legend(loc='upper left')\n",
    "    \n",
    "    # Set x-axis to show dates\n",
    "    ax3.set_xlabel('Date')\n",
    "    ax3.xaxis.set_major_formatter(mdates.DateFormatter('%Y-%m-%d'))\n",
    "    ax3.xaxis.set_major_locator(mdates.YearLocator())\n",
    "    fig.autofmt_xdate()  # Rotate and align the tick labels\n",
    "    \n",
    "    # Add price to the right y-axis of RSI and MACD plots\n",
    "    ax2r = ax2.twinx()\n",
    "    ax2r.plot(stock_data['Date'], stock_data['Close'], alpha=0.3, color='gray')\n",
    "    ax2r.set_ylabel('Price (USD)', color='gray')\n",
    "    \n",
    "    ax3r = ax3.twinx()\n",
    "    ax3r.plot(stock_data['Date'], stock_data['Close'], alpha=0.3, color='gray')\n",
    "    ax3r.set_ylabel('Price (USD)', color='gray')\n",
    "    \n",
    "    plt.tight_layout()\n",
    "    plt.show()\n",
    "\n",
    "def plot_returns_comparison(data):\n",
    "    \"\"\"Plot cumulative returns comparison for all stocks.\"\"\"\n",
    "   \n",
    "    plt.figure(figsize=(12, 6))\n",
    "    for ticker, stock_data in data.items():\n",
    "        if not pd.api.types.is_datetime64_any_dtype(stock_data['Date']):\n",
    "            stock_data['Date'] = pd.to_datetime(stock_data['Date'])\n",
    "        plt.plot(stock_data['Date'], stock_data['Cumulative Returns'], label=ticker)\n",
    "    \n",
    "    plt.title('Cumulative Returns Comparison')\n",
    "    plt.xlabel('Date')\n",
    "    plt.ylabel('Cumulative Returns')\n",
    "    plt.legend()\n",
    "    plt.show()"
   ]
  },
  {
   "cell_type": "markdown",
   "metadata": {},
   "source": [
    "### Financial Metrics"
   ]
  },
  {
   "cell_type": "code",
   "execution_count": null,
   "metadata": {},
   "outputs": [],
   "source": [
    "def display_metrics_table(data, market_returns):\n",
    "    \"\"\"Display a table of financial metrics for all stocks.\"\"\"\n",
    "    metrics = FinancialMetrics(data)\n",
    "    sharpe_ratios = metrics.calculate_sharpe_ratio()\n",
    "    volatilities = metrics.calculate_volatility()\n",
    "    betas = metrics.calculate_beta(market_returns)\n",
    "    \n",
    "    metrics_df = pd.DataFrame({\n",
    "        'Sharpe Ratio': sharpe_ratios,\n",
    "        'Volatility': volatilities,\n",
    "        'Beta': betas\n",
    "    })\n",
    "    \n",
    "    display(HTML(metrics_df.to_html()))"
   ]
  },
  {
   "cell_type": "markdown",
   "metadata": {},
   "source": [
    "### Correlation Heatmap "
   ]
  },
  {
   "cell_type": "code",
   "execution_count": null,
   "metadata": {},
   "outputs": [],
   "source": [
    "def plot_correlation_heatmap_among_tickers(data):\n",
    "    \"\"\"Plot correlation heatmap of stock returns.\"\"\"\n",
    "    returns = pd.DataFrame({ticker: stock_data['Returns'] for ticker, stock_data in data.items()})\n",
    "    corr_matrix = returns.corr()\n",
    "\n",
    "    plt.figure(figsize=(10, 8))\n",
    "    sns.heatmap(corr_matrix, annot=True, cmap='coolwarm', vmin=-1, vmax=1, center=0)\n",
    "    plt.title('Correlation Heatmap of Stock Returns')\n",
    "    plt.show()\n",
    "\n",
    "def plot_correlation_heatmaps_by_ticker(data):\n",
    "    \"\"\"Plot correlation heatmaps for each ticker based on RSI, MA, MACD, MACD_signal, MACD_Histogram, Close, and Returns.\"\"\"\n",
    "    for ticker, stock_data in data.items():\n",
    "        # Select the relevant columns for correlation\n",
    "        columns_of_interest = ['RSI', 'MA', 'MACD', 'MACD_signal', 'MACD_Histogram', 'Close', 'Returns']\n",
    "        \n",
    "        # Filter the DataFrame to include only the relevant columns\n",
    "        ticker_data = stock_data[columns_of_interest]\n",
    "        \n",
    "        # Calculate the correlation matrix\n",
    "        corr_matrix = ticker_data.corr()\n",
    "        \n",
    "        # Plot the correlation heatmap\n",
    "        plt.figure(figsize=(8, 6))\n",
    "        sns.heatmap(corr_matrix, annot=True, cmap='coolwarm', vmin=-1, vmax=1, center=0)\n",
    "        plt.title(f'Correlation Heatmap for {ticker}')\n",
    "        plt.show()\n",
    "\n",
    "                  \n"
   ]
  },
  {
   "cell_type": "markdown",
   "metadata": {},
   "source": [
    "# Data Processing and Visualizations starts here"
   ]
  },
  {
   "cell_type": "code",
   "execution_count": null,
   "metadata": {},
   "outputs": [],
   "source": [
    "# Main execution\n",
    "data, market_returns = load_and_process_data()"
   ]
  },
  {
   "cell_type": "markdown",
   "metadata": {},
   "source": [
    "## Indicators | Summary statistics"
   ]
  },
  {
   "cell_type": "code",
   "execution_count": null,
   "metadata": {},
   "outputs": [],
   "source": [
    "create_comparative_plots(data)"
   ]
  },
  {
   "cell_type": "markdown",
   "metadata": {},
   "source": [
    "## Indicators vs Returns"
   ]
  },
  {
   "cell_type": "code",
   "execution_count": null,
   "metadata": {},
   "outputs": [],
   "source": [
    "plot_indicators_and_returns(data, 'AAPL')\n",
    "plot_correlation_heatmaps_by_ticker(data)\n",
    "    "
   ]
  },
  {
   "cell_type": "markdown",
   "metadata": {},
   "source": [
    "## Relationship among tickers"
   ]
  },
  {
   "cell_type": "code",
   "execution_count": null,
   "metadata": {},
   "outputs": [],
   "source": [
    "plot_returns_comparison(data)\n",
    "plot_correlation_heatmap_among_tickers(data)\n"
   ]
  },
  {
   "cell_type": "markdown",
   "metadata": {},
   "source": [
    "## Financial Metrics | sharpe_ratio, volatility, beta"
   ]
  },
  {
   "cell_type": "code",
   "execution_count": null,
   "metadata": {},
   "outputs": [],
   "source": [
    "# Display metrics table\n",
    "print(\"Financial Metrics:\")\n",
    "display_metrics_table(data, market_returns)"
   ]
  }
 ],
 "metadata": {
  "kernelspec": {
   "display_name": "venv",
   "language": "python",
   "name": "python3"
  },
  "language_info": {
   "codemirror_mode": {
    "name": "ipython",
    "version": 3
   },
   "file_extension": ".py",
   "mimetype": "text/x-python",
   "name": "python",
   "nbconvert_exporter": "python",
   "pygments_lexer": "ipython3",
   "version": "3.9.2"
  }
 },
 "nbformat": 4,
 "nbformat_minor": 2
}
