{
 "cells": [
  {
   "cell_type": "markdown",
   "metadata": {},
   "source": [
    "# Text Analysis"
   ]
  },
  {
   "cell_type": "markdown",
   "metadata": {},
   "source": [
    "## Import libraries and modules"
   ]
  },
  {
   "cell_type": "code",
   "execution_count": 7,
   "metadata": {},
   "outputs": [],
   "source": [
    "import pandas as pd\n",
    "import numpy as np\n",
    "import sys\n",
    "import os\n",
    "# Define the path to the src directory\n",
    "src_dir = os.path.abspath(os.path.join(os.getcwd(), '..', 'src'))\n",
    "sys.path.insert(0, src_dir)\n",
    "\n",
    "# Delete the eda and data_loader modules if they exist\n",
    "if 'text_analysis' in sys.modules:\n",
    "    del sys.modules['text_analysis']\n",
    "if 'data_loader' in sys.modules:\n",
    "    del sys.modules['data_loader']\n",
    "\n",
    "from text_analysis import TextAnalysis\n",
    "from data_loader import DataLoader\n"
   ]
  },
  {
   "cell_type": "markdown",
   "metadata": {},
   "source": [
    "## Load Cleaned Data"
   ]
  },
  {
   "cell_type": "code",
   "execution_count": 8,
   "metadata": {},
   "outputs": [],
   "source": [
    "# Load and clean data\n",
    "data_loader = DataLoader(\"../data/raw_analyst_ratings/raw_analyst_ratings.csv\")\n",
    "df = data_loader.load_data()\n",
    "df = data_loader.clean_data(df)\n"
   ]
  },
  {
   "cell_type": "markdown",
   "metadata": {},
   "source": [
    "## Perform Text Analysis"
   ]
  },
  {
   "cell_type": "markdown",
   "metadata": {},
   "source": [
    "### Sentiment Analysis"
   ]
  },
  {
   "cell_type": "code",
   "execution_count": 3,
   "metadata": {},
   "outputs": [
    {
     "name": "stdout",
     "output_type": "stream",
     "text": [
      "Headline sentiments:\n",
      "                                                  headline  polarity  \\\n",
      "0                  Stocks That Hit 52-Week Highs On Friday    0.0000   \n",
      "1               Stocks That Hit 52-Week Highs On Wednesday    0.0000   \n",
      "2                            71 Biggest Movers From Friday    0.0000   \n",
      "3             46 Stocks Moving In Friday's Mid-Day Session    0.0000   \n",
      "4        B of A Securities Maintains Neutral on Agilent...    0.2960   \n",
      "...                                                    ...       ...   \n",
      "1407323             Top Narrow Based Indexes For August 29    0.2023   \n",
      "1407324  Recap: Wednesday's Top Percentage Gainers and ...   -0.3818   \n",
      "1407325  UPDATE: Oppenheimer Color on China Zenix Auto ...    0.0000   \n",
      "1407326  Oppenheimer Initiates China Zenix At Outperfor...    0.0000   \n",
      "1407327  China Zenix Auto International Opens For Tradi...    0.0000   \n",
      "\n",
      "         subjectivity sentiment_class  \n",
      "0               1.000        negative  \n",
      "1               1.000        negative  \n",
      "2               1.000        negative  \n",
      "3               1.000        negative  \n",
      "4               0.855         neutral  \n",
      "...               ...             ...  \n",
      "1407323         0.769         neutral  \n",
      "1407324         0.490        negative  \n",
      "1407325         1.000        negative  \n",
      "1407326         1.000        negative  \n",
      "1407327         1.000        negative  \n",
      "\n",
      "[1407328 rows x 4 columns]\n"
     ]
    }
   ],
   "source": [
    "# Perform sentiment analysis\n",
    "ta = TextAnalysis(df)\n",
    "# Obtain textual lengths statistics\n",
    "sentiment = ta.perform_sentiment_analysis()\n",
    "print(\"Headline sentiments:\")\n",
    "print(sentiment)\n"
   ]
  },
  {
   "cell_type": "markdown",
   "metadata": {},
   "source": [
    "### Headline keywords"
   ]
  },
  {
   "cell_type": "code",
   "execution_count": 10,
   "metadata": {},
   "outputs": [
    {
     "name": "stdout",
     "output_type": "stream",
     "text": [
      "\n",
      "Headline phrases count:\n",
      "earnings scheduled         32047.824603\n",
      "benzinga top               30696.889799\n",
      "price target               27840.350800\n",
      "raises pt                  23210.763452\n",
      "initiates coverage         21977.325979\n",
      "                               ...     \n",
      "mid morning market          4264.137868\n",
      "moving wednesday            4061.461256\n",
      "stocks moving wednesday     4055.009795\n",
      "week low                    4053.550566\n",
      "52 week low                 4026.417523\n",
      "Length: 100, dtype: float64\n"
     ]
    }
   ],
   "source": [
    "# Count the number of articles per publisher\n",
    "phrase_counts = ta.extract_keywords()\n",
    "print(\"\\nHeadline phrases count:\")\n",
    "print(phrase_counts)"
   ]
  }
 ],
 "metadata": {
  "kernelspec": {
   "display_name": "venv",
   "language": "python",
   "name": "python3"
  },
  "language_info": {
   "codemirror_mode": {
    "name": "ipython",
    "version": 3
   },
   "file_extension": ".py",
   "mimetype": "text/x-python",
   "name": "python",
   "nbconvert_exporter": "python",
   "pygments_lexer": "ipython3",
   "version": "3.9.2"
  }
 },
 "nbformat": 4,
 "nbformat_minor": 2
}
